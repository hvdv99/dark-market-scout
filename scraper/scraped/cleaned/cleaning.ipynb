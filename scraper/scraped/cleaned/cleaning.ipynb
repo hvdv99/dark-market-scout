{
 "cells": [
  {
   "cell_type": "code",
   "id": "initial_id",
   "metadata": {
    "collapsed": true,
    "ExecuteTime": {
     "end_time": "2024-05-09T17:02:40.422531Z",
     "start_time": "2024-05-09T17:02:40.418031Z"
    }
   },
   "source": [
    "import pandas as pd\n",
    "from currency_converter import CurrencyConverter, SINGLE_DAY_ECB_URL"
   ],
   "outputs": [],
   "execution_count": 223
  },
  {
   "metadata": {},
   "cell_type": "markdown",
   "source": "# Cleaning Products Data",
   "id": "60eecc17517d298b"
  },
  {
   "metadata": {
    "ExecuteTime": {
     "end_time": "2024-05-09T17:02:41.126571Z",
     "start_time": "2024-05-09T17:02:40.677743Z"
    }
   },
   "cell_type": "code",
   "source": "c = CurrencyConverter(SINGLE_DAY_ECB_URL)",
   "id": "9823a3338c91b790",
   "outputs": [],
   "execution_count": 224
  },
  {
   "metadata": {
    "ExecuteTime": {
     "end_time": "2024-05-09T17:02:41.698103Z",
     "start_time": "2024-05-09T17:02:41.132413Z"
    }
   },
   "cell_type": "code",
   "source": [
    "products_nexus = pd.read_csv('../nexus-product.csv').drop_duplicates(subset='name')\n",
    "products_wtn = pd.read_csv('../we-the-north-product.csv').drop_duplicates(subset='name')"
   ],
   "id": "88d8182154816aa7",
   "outputs": [],
   "execution_count": 225
  },
  {
   "metadata": {
    "ExecuteTime": {
     "end_time": "2024-05-09T17:02:42.057264Z",
     "start_time": "2024-05-09T17:02:41.700651Z"
    }
   },
   "cell_type": "code",
   "source": [
    "products_final = pd.concat([products_nexus, products_wtn], ignore_index=True)\n",
    "products_final = products_final[['name', 'category', 'price', 'currency', 'description', 'vendor', 'marketplace']]\n",
    "\n",
    "def convert(item):\n",
    "    global c\n",
    "    price, currency = item\n",
    "    if currency == 'USD':\n",
    "        return price\n",
    "    return round(c.convert(price, currency.strip(), 'USD'), 2)\n",
    "\n",
    "products_final['price'] = products_final[['price', 'currency']].apply(convert, axis=1)\n",
    "products_final.rename(columns={'price': 'price_usd'}, inplace=True)\n",
    "products_final.drop('currency', axis=1, inplace=True)\n",
    "\n",
    "products_final.to_csv('products_final.csv', index=False)\n"
   ],
   "id": "385d824b46b9b989",
   "outputs": [],
   "execution_count": 226
  },
  {
   "metadata": {},
   "cell_type": "markdown",
   "source": "# Cleaning Vendors Data",
   "id": "4ae041b33b405420"
  },
  {
   "metadata": {
    "ExecuteTime": {
     "end_time": "2024-05-09T17:02:42.211405Z",
     "start_time": "2024-05-09T17:02:42.061664Z"
    }
   },
   "cell_type": "code",
   "source": [
    "vendors_nexus = pd.read_csv('../nexus-vendor.csv').drop_duplicates(subset='name')\n",
    "vendors_wtn = pd.read_csv('../we-the-north-vendor.csv').drop_duplicates(subset='name')\n",
    "vendors_combined = pd.concat([vendors_nexus, vendors_wtn], ignore_index=True)\n",
    "vendors_combined = vendors_combined[['name', 'about_text', 'review_count', 'marketplace']]"
   ],
   "id": "997dddafc8488abc",
   "outputs": [],
   "execution_count": 227
  },
  {
   "metadata": {
    "ExecuteTime": {
     "end_time": "2024-05-09T17:02:42.249229Z",
     "start_time": "2024-05-09T17:02:42.214316Z"
    }
   },
   "cell_type": "code",
   "source": [
    "vendors_combined['review_count'].fillna(0, inplace=True)\n",
    "\n",
    "def take_last_numeric_value(value):\n",
    "    if not isinstance(value, str):\n",
    "        return value\n",
    "    if value.isnumeric():\n",
    "        return value\n",
    "    else:\n",
    "        return int(value.split('|')[-1])\n",
    "    \n",
    "vendors_combined['review_count'] = vendors_combined['review_count'].apply(take_last_numeric_value).astype('int64')\n",
    "\n",
    "vendors_combined['review_count_normalized'] = (vendors_combined['review_count'] - vendors_combined['review_count'].min()) / (vendors_combined['review_count'].max() - vendors_combined['review_count'].min())\n",
    "\n",
    "vendors_combined['about_text'] = vendors_combined['about_text'].apply(lambda x: '' if x == \"User hasn't filled in this info\" else x)\n",
    "\n",
    "vendors_combined.to_csv('vendors_final.csv', index=False)\n"
   ],
   "id": "aa477c8fae2c9292",
   "outputs": [
    {
     "name": "stderr",
     "output_type": "stream",
     "text": [
      "/var/folders/y7/_zszvpn176l12y354k0l6t6c0000gn/T/ipykernel_6989/1577454402.py:1: FutureWarning: A value is trying to be set on a copy of a DataFrame or Series through chained assignment using an inplace method.\n",
      "The behavior will change in pandas 3.0. This inplace method will never work because the intermediate object on which we are setting values always behaves as a copy.\n",
      "\n",
      "For example, when doing 'df[col].method(value, inplace=True)', try using 'df.method({col: value}, inplace=True)' or df[col] = df[col].method(value) instead, to perform the operation inplace on the original object.\n",
      "\n",
      "\n",
      "  vendors_combined['review_count'].fillna(0, inplace=True)\n"
     ]
    }
   ],
   "execution_count": 228
  },
  {
   "metadata": {},
   "cell_type": "markdown",
   "source": "# Cleaning Reviews Data",
   "id": "1d1a15a982857404"
  },
  {
   "metadata": {
    "ExecuteTime": {
     "end_time": "2024-05-09T17:02:43.266200Z",
     "start_time": "2024-05-09T17:02:42.252726Z"
    }
   },
   "cell_type": "code",
   "source": [
    "reviews_wtn = pd.read_csv('../we-the-north-review.csv')\n",
    "reviews_nexus = pd.read_csv('../nexus-review.csv')\n",
    "\n",
    "def convert_rating(x):\n",
    "    val = int(x.strip()[0])\n",
    "    if val < 3:\n",
    "        return 'negative'\n",
    "    return 'positive'\n",
    "\n",
    "reviews_nexus['rating'] = reviews_nexus['rating'].apply(convert_rating)\n",
    "\n",
    "reviews_combined = pd.concat([reviews_wtn, reviews_nexus], ignore_index=True)\n",
    "\n",
    "\n",
    "reviews_combined['price_paid'] = reviews_combined['price_paid'].str.extract(r'(\\d+)').astype('float64')\n",
    "reviews_combined['price_paid_usd'] = reviews_combined[['price_paid', 'currency']].apply(convert, axis=1)\n",
    "reviews_combined.drop(['currency', 'price_paid', 'product_link', 'datetime', 'author'], axis=1, inplace=True)\n",
    "\n",
    "reviews_combined.to_csv('reviews_final.csv', index=False)"
   ],
   "id": "89314cb0822b59f3",
   "outputs": [],
   "execution_count": 229
  }
 ],
 "metadata": {
  "kernelspec": {
   "display_name": "Python 3",
   "language": "python",
   "name": "python3"
  },
  "language_info": {
   "codemirror_mode": {
    "name": "ipython",
    "version": 2
   },
   "file_extension": ".py",
   "mimetype": "text/x-python",
   "name": "python",
   "nbconvert_exporter": "python",
   "pygments_lexer": "ipython2",
   "version": "2.7.6"
  }
 },
 "nbformat": 4,
 "nbformat_minor": 5
}
